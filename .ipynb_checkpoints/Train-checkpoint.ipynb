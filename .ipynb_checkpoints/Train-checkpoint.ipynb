{
 "cells": [
  {
   "cell_type": "code",
   "execution_count": 76,
   "id": "d7b96ef7",
   "metadata": {},
   "outputs": [],
   "source": [
    "import warnings\n",
    "warnings.filterwarnings('ignore')"
   ]
  },
  {
   "cell_type": "code",
   "execution_count": 2,
   "id": "beaae70a",
   "metadata": {},
   "outputs": [],
   "source": [
    "from xgboost import XGBClassifier,XGBRegressor\n",
    "from sklearn.model_selection import GroupKFold\n",
    "from sklearn.metrics import accuracy_score\n",
    "from sklearn.metrics import auc\n",
    "import sklearn.metrics as metrics"
   ]
  },
  {
   "cell_type": "code",
   "execution_count": 77,
   "id": "469068a8",
   "metadata": {},
   "outputs": [],
   "source": [
    "from sklearn.metrics import roc_auc_score, roc_curve"
   ]
  },
  {
   "cell_type": "code",
   "execution_count": 78,
   "id": "5ff10ca6",
   "metadata": {},
   "outputs": [],
   "source": [
    "from datetime import datetime"
   ]
  },
  {
   "cell_type": "code",
   "execution_count": 79,
   "id": "ef76692c",
   "metadata": {},
   "outputs": [],
   "source": [
    "import pandas as pd \n",
    "import numpy as np"
   ]
  },
  {
   "cell_type": "code",
   "execution_count": 6,
   "id": "8a40d2e9",
   "metadata": {},
   "outputs": [],
   "source": [
    "train_df=pd.read_pickle('feature/'+'2022_08_02_02_07_48'+'_train.pkl')"
   ]
  },
  {
   "cell_type": "code",
   "execution_count": 7,
   "id": "f43181ef",
   "metadata": {},
   "outputs": [
    {
     "data": {
      "text/html": [
       "<div>\n",
       "<style scoped>\n",
       "    .dataframe tbody tr th:only-of-type {\n",
       "        vertical-align: middle;\n",
       "    }\n",
       "\n",
       "    .dataframe tbody tr th {\n",
       "        vertical-align: top;\n",
       "    }\n",
       "\n",
       "    .dataframe thead th {\n",
       "        text-align: right;\n",
       "    }\n",
       "</style>\n",
       "<table border=\"1\" class=\"dataframe\">\n",
       "  <thead>\n",
       "    <tr style=\"text-align: right;\">\n",
       "      <th></th>\n",
       "      <th>id</th>\n",
       "      <th>loading</th>\n",
       "      <th>measurement_0</th>\n",
       "      <th>measurement_1</th>\n",
       "      <th>measurement_2</th>\n",
       "      <th>measurement_3</th>\n",
       "      <th>measurement_4</th>\n",
       "      <th>measurement_5</th>\n",
       "      <th>measurement_6</th>\n",
       "      <th>measurement_7</th>\n",
       "      <th>...</th>\n",
       "      <th>measurement_10</th>\n",
       "      <th>measurement_11</th>\n",
       "      <th>measurement_12</th>\n",
       "      <th>measurement_13</th>\n",
       "      <th>measurement_14</th>\n",
       "      <th>measurement_15</th>\n",
       "      <th>measurement_16</th>\n",
       "      <th>measurement_17</th>\n",
       "      <th>product_code</th>\n",
       "      <th>failure</th>\n",
       "    </tr>\n",
       "  </thead>\n",
       "  <tbody>\n",
       "    <tr>\n",
       "      <th>0</th>\n",
       "      <td>0</td>\n",
       "      <td>80.10</td>\n",
       "      <td>7.0</td>\n",
       "      <td>8.0</td>\n",
       "      <td>4.0</td>\n",
       "      <td>18.040</td>\n",
       "      <td>12.518000</td>\n",
       "      <td>15.748</td>\n",
       "      <td>19.292</td>\n",
       "      <td>11.739</td>\n",
       "      <td>...</td>\n",
       "      <td>15.859</td>\n",
       "      <td>17.59400</td>\n",
       "      <td>15.193</td>\n",
       "      <td>15.029</td>\n",
       "      <td>13.638146</td>\n",
       "      <td>13.034</td>\n",
       "      <td>14.684000</td>\n",
       "      <td>764.100</td>\n",
       "      <td>A</td>\n",
       "      <td>0.0</td>\n",
       "    </tr>\n",
       "    <tr>\n",
       "      <th>1</th>\n",
       "      <td>1</td>\n",
       "      <td>84.89</td>\n",
       "      <td>14.0</td>\n",
       "      <td>3.0</td>\n",
       "      <td>3.0</td>\n",
       "      <td>18.213</td>\n",
       "      <td>11.540000</td>\n",
       "      <td>17.717</td>\n",
       "      <td>17.893</td>\n",
       "      <td>12.748</td>\n",
       "      <td>...</td>\n",
       "      <td>17.947</td>\n",
       "      <td>17.91500</td>\n",
       "      <td>11.755</td>\n",
       "      <td>14.732</td>\n",
       "      <td>15.425000</td>\n",
       "      <td>14.395</td>\n",
       "      <td>15.631000</td>\n",
       "      <td>682.057</td>\n",
       "      <td>A</td>\n",
       "      <td>0.0</td>\n",
       "    </tr>\n",
       "    <tr>\n",
       "      <th>2</th>\n",
       "      <td>2</td>\n",
       "      <td>82.43</td>\n",
       "      <td>12.0</td>\n",
       "      <td>1.0</td>\n",
       "      <td>5.0</td>\n",
       "      <td>18.057</td>\n",
       "      <td>11.652000</td>\n",
       "      <td>16.738</td>\n",
       "      <td>18.240</td>\n",
       "      <td>12.718</td>\n",
       "      <td>...</td>\n",
       "      <td>15.607</td>\n",
       "      <td>15.93469</td>\n",
       "      <td>13.798</td>\n",
       "      <td>16.711</td>\n",
       "      <td>18.631000</td>\n",
       "      <td>14.094</td>\n",
       "      <td>17.946000</td>\n",
       "      <td>663.376</td>\n",
       "      <td>A</td>\n",
       "      <td>0.0</td>\n",
       "    </tr>\n",
       "    <tr>\n",
       "      <th>3</th>\n",
       "      <td>3</td>\n",
       "      <td>101.07</td>\n",
       "      <td>13.0</td>\n",
       "      <td>2.0</td>\n",
       "      <td>6.0</td>\n",
       "      <td>17.295</td>\n",
       "      <td>11.188000</td>\n",
       "      <td>18.576</td>\n",
       "      <td>18.339</td>\n",
       "      <td>12.583</td>\n",
       "      <td>...</td>\n",
       "      <td>16.346</td>\n",
       "      <td>18.37700</td>\n",
       "      <td>10.020</td>\n",
       "      <td>15.250</td>\n",
       "      <td>15.562000</td>\n",
       "      <td>16.154</td>\n",
       "      <td>17.172000</td>\n",
       "      <td>826.282</td>\n",
       "      <td>A</td>\n",
       "      <td>0.0</td>\n",
       "    </tr>\n",
       "    <tr>\n",
       "      <th>4</th>\n",
       "      <td>4</td>\n",
       "      <td>188.06</td>\n",
       "      <td>9.0</td>\n",
       "      <td>2.0</td>\n",
       "      <td>8.0</td>\n",
       "      <td>19.346</td>\n",
       "      <td>12.950000</td>\n",
       "      <td>16.990</td>\n",
       "      <td>15.746</td>\n",
       "      <td>11.306</td>\n",
       "      <td>...</td>\n",
       "      <td>17.082</td>\n",
       "      <td>19.93200</td>\n",
       "      <td>12.428</td>\n",
       "      <td>16.182</td>\n",
       "      <td>12.760000</td>\n",
       "      <td>13.153</td>\n",
       "      <td>16.412000</td>\n",
       "      <td>579.885</td>\n",
       "      <td>A</td>\n",
       "      <td>0.0</td>\n",
       "    </tr>\n",
       "    <tr>\n",
       "      <th>...</th>\n",
       "      <td>...</td>\n",
       "      <td>...</td>\n",
       "      <td>...</td>\n",
       "      <td>...</td>\n",
       "      <td>...</td>\n",
       "      <td>...</td>\n",
       "      <td>...</td>\n",
       "      <td>...</td>\n",
       "      <td>...</td>\n",
       "      <td>...</td>\n",
       "      <td>...</td>\n",
       "      <td>...</td>\n",
       "      <td>...</td>\n",
       "      <td>...</td>\n",
       "      <td>...</td>\n",
       "      <td>...</td>\n",
       "      <td>...</td>\n",
       "      <td>...</td>\n",
       "      <td>...</td>\n",
       "      <td>...</td>\n",
       "      <td>...</td>\n",
       "    </tr>\n",
       "    <tr>\n",
       "      <th>26565</th>\n",
       "      <td>26565</td>\n",
       "      <td>158.95</td>\n",
       "      <td>6.0</td>\n",
       "      <td>16.0</td>\n",
       "      <td>4.0</td>\n",
       "      <td>16.301</td>\n",
       "      <td>13.259000</td>\n",
       "      <td>18.068</td>\n",
       "      <td>15.505</td>\n",
       "      <td>10.865</td>\n",
       "      <td>...</td>\n",
       "      <td>12.177</td>\n",
       "      <td>17.94200</td>\n",
       "      <td>10.112</td>\n",
       "      <td>15.795</td>\n",
       "      <td>18.572000</td>\n",
       "      <td>16.144</td>\n",
       "      <td>13.279117</td>\n",
       "      <td>729.131</td>\n",
       "      <td>E</td>\n",
       "      <td>0.0</td>\n",
       "    </tr>\n",
       "    <tr>\n",
       "      <th>26566</th>\n",
       "      <td>26566</td>\n",
       "      <td>146.02</td>\n",
       "      <td>10.0</td>\n",
       "      <td>12.0</td>\n",
       "      <td>8.0</td>\n",
       "      <td>17.543</td>\n",
       "      <td>10.036905</td>\n",
       "      <td>17.984</td>\n",
       "      <td>19.078</td>\n",
       "      <td>11.139</td>\n",
       "      <td>...</td>\n",
       "      <td>14.179</td>\n",
       "      <td>20.56400</td>\n",
       "      <td>10.234</td>\n",
       "      <td>14.450</td>\n",
       "      <td>14.322000</td>\n",
       "      <td>13.146</td>\n",
       "      <td>16.471000</td>\n",
       "      <td>853.924</td>\n",
       "      <td>E</td>\n",
       "      <td>0.0</td>\n",
       "    </tr>\n",
       "    <tr>\n",
       "      <th>26567</th>\n",
       "      <td>26567</td>\n",
       "      <td>115.62</td>\n",
       "      <td>1.0</td>\n",
       "      <td>10.0</td>\n",
       "      <td>1.0</td>\n",
       "      <td>15.670</td>\n",
       "      <td>11.535000</td>\n",
       "      <td>16.778</td>\n",
       "      <td>18.385</td>\n",
       "      <td>11.630</td>\n",
       "      <td>...</td>\n",
       "      <td>16.437</td>\n",
       "      <td>17.47600</td>\n",
       "      <td>8.668</td>\n",
       "      <td>15.069</td>\n",
       "      <td>16.599000</td>\n",
       "      <td>15.590</td>\n",
       "      <td>14.065000</td>\n",
       "      <td>750.364</td>\n",
       "      <td>E</td>\n",
       "      <td>0.0</td>\n",
       "    </tr>\n",
       "    <tr>\n",
       "      <th>26568</th>\n",
       "      <td>26568</td>\n",
       "      <td>106.38</td>\n",
       "      <td>2.0</td>\n",
       "      <td>9.0</td>\n",
       "      <td>4.0</td>\n",
       "      <td>18.059</td>\n",
       "      <td>10.031023</td>\n",
       "      <td>16.918</td>\n",
       "      <td>18.101</td>\n",
       "      <td>11.713</td>\n",
       "      <td>...</td>\n",
       "      <td>17.064</td>\n",
       "      <td>17.81400</td>\n",
       "      <td>14.928</td>\n",
       "      <td>16.273</td>\n",
       "      <td>15.485000</td>\n",
       "      <td>13.624</td>\n",
       "      <td>12.865000</td>\n",
       "      <td>730.156</td>\n",
       "      <td>E</td>\n",
       "      <td>0.0</td>\n",
       "    </tr>\n",
       "    <tr>\n",
       "      <th>26569</th>\n",
       "      <td>26569</td>\n",
       "      <td>131.20</td>\n",
       "      <td>6.0</td>\n",
       "      <td>19.0</td>\n",
       "      <td>1.0</td>\n",
       "      <td>18.034</td>\n",
       "      <td>11.431000</td>\n",
       "      <td>16.918</td>\n",
       "      <td>17.129</td>\n",
       "      <td>12.713</td>\n",
       "      <td>...</td>\n",
       "      <td>15.603</td>\n",
       "      <td>19.70300</td>\n",
       "      <td>11.006</td>\n",
       "      <td>15.875</td>\n",
       "      <td>13.366000</td>\n",
       "      <td>16.527</td>\n",
       "      <td>17.890000</td>\n",
       "      <td>602.354</td>\n",
       "      <td>E</td>\n",
       "      <td>0.0</td>\n",
       "    </tr>\n",
       "  </tbody>\n",
       "</table>\n",
       "<p>26570 rows × 22 columns</p>\n",
       "</div>"
      ],
      "text/plain": [
       "          id  loading  measurement_0  measurement_1  measurement_2  \\\n",
       "0          0    80.10            7.0            8.0            4.0   \n",
       "1          1    84.89           14.0            3.0            3.0   \n",
       "2          2    82.43           12.0            1.0            5.0   \n",
       "3          3   101.07           13.0            2.0            6.0   \n",
       "4          4   188.06            9.0            2.0            8.0   \n",
       "...      ...      ...            ...            ...            ...   \n",
       "26565  26565   158.95            6.0           16.0            4.0   \n",
       "26566  26566   146.02           10.0           12.0            8.0   \n",
       "26567  26567   115.62            1.0           10.0            1.0   \n",
       "26568  26568   106.38            2.0            9.0            4.0   \n",
       "26569  26569   131.20            6.0           19.0            1.0   \n",
       "\n",
       "       measurement_3  measurement_4  measurement_5  measurement_6  \\\n",
       "0             18.040      12.518000         15.748         19.292   \n",
       "1             18.213      11.540000         17.717         17.893   \n",
       "2             18.057      11.652000         16.738         18.240   \n",
       "3             17.295      11.188000         18.576         18.339   \n",
       "4             19.346      12.950000         16.990         15.746   \n",
       "...              ...            ...            ...            ...   \n",
       "26565         16.301      13.259000         18.068         15.505   \n",
       "26566         17.543      10.036905         17.984         19.078   \n",
       "26567         15.670      11.535000         16.778         18.385   \n",
       "26568         18.059      10.031023         16.918         18.101   \n",
       "26569         18.034      11.431000         16.918         17.129   \n",
       "\n",
       "       measurement_7  ...  measurement_10  measurement_11  measurement_12  \\\n",
       "0             11.739  ...          15.859        17.59400          15.193   \n",
       "1             12.748  ...          17.947        17.91500          11.755   \n",
       "2             12.718  ...          15.607        15.93469          13.798   \n",
       "3             12.583  ...          16.346        18.37700          10.020   \n",
       "4             11.306  ...          17.082        19.93200          12.428   \n",
       "...              ...  ...             ...             ...             ...   \n",
       "26565         10.865  ...          12.177        17.94200          10.112   \n",
       "26566         11.139  ...          14.179        20.56400          10.234   \n",
       "26567         11.630  ...          16.437        17.47600           8.668   \n",
       "26568         11.713  ...          17.064        17.81400          14.928   \n",
       "26569         12.713  ...          15.603        19.70300          11.006   \n",
       "\n",
       "       measurement_13  measurement_14  measurement_15  measurement_16  \\\n",
       "0              15.029       13.638146          13.034       14.684000   \n",
       "1              14.732       15.425000          14.395       15.631000   \n",
       "2              16.711       18.631000          14.094       17.946000   \n",
       "3              15.250       15.562000          16.154       17.172000   \n",
       "4              16.182       12.760000          13.153       16.412000   \n",
       "...               ...             ...             ...             ...   \n",
       "26565          15.795       18.572000          16.144       13.279117   \n",
       "26566          14.450       14.322000          13.146       16.471000   \n",
       "26567          15.069       16.599000          15.590       14.065000   \n",
       "26568          16.273       15.485000          13.624       12.865000   \n",
       "26569          15.875       13.366000          16.527       17.890000   \n",
       "\n",
       "       measurement_17  product_code  failure  \n",
       "0             764.100             A      0.0  \n",
       "1             682.057             A      0.0  \n",
       "2             663.376             A      0.0  \n",
       "3             826.282             A      0.0  \n",
       "4             579.885             A      0.0  \n",
       "...               ...           ...      ...  \n",
       "26565         729.131             E      0.0  \n",
       "26566         853.924             E      0.0  \n",
       "26567         750.364             E      0.0  \n",
       "26568         730.156             E      0.0  \n",
       "26569         602.354             E      0.0  \n",
       "\n",
       "[26570 rows x 22 columns]"
      ]
     },
     "execution_count": 7,
     "metadata": {},
     "output_type": "execute_result"
    }
   ],
   "source": [
    "train_df"
   ]
  },
  {
   "cell_type": "code",
   "execution_count": 8,
   "id": "f5bec542",
   "metadata": {},
   "outputs": [],
   "source": [
    "X=train_df.iloc[:,1:-2]\n",
    "y=train_df.iloc[:,-1]"
   ]
  },
  {
   "cell_type": "code",
   "execution_count": 9,
   "id": "451f8dae",
   "metadata": {},
   "outputs": [
    {
     "data": {
      "text/html": [
       "<div>\n",
       "<style scoped>\n",
       "    .dataframe tbody tr th:only-of-type {\n",
       "        vertical-align: middle;\n",
       "    }\n",
       "\n",
       "    .dataframe tbody tr th {\n",
       "        vertical-align: top;\n",
       "    }\n",
       "\n",
       "    .dataframe thead th {\n",
       "        text-align: right;\n",
       "    }\n",
       "</style>\n",
       "<table border=\"1\" class=\"dataframe\">\n",
       "  <thead>\n",
       "    <tr style=\"text-align: right;\">\n",
       "      <th></th>\n",
       "      <th>loading</th>\n",
       "      <th>measurement_0</th>\n",
       "      <th>measurement_1</th>\n",
       "      <th>measurement_2</th>\n",
       "      <th>measurement_3</th>\n",
       "      <th>measurement_4</th>\n",
       "      <th>measurement_5</th>\n",
       "      <th>measurement_6</th>\n",
       "      <th>measurement_7</th>\n",
       "      <th>measurement_8</th>\n",
       "      <th>measurement_9</th>\n",
       "      <th>measurement_10</th>\n",
       "      <th>measurement_11</th>\n",
       "      <th>measurement_12</th>\n",
       "      <th>measurement_13</th>\n",
       "      <th>measurement_14</th>\n",
       "      <th>measurement_15</th>\n",
       "      <th>measurement_16</th>\n",
       "      <th>measurement_17</th>\n",
       "    </tr>\n",
       "  </thead>\n",
       "  <tbody>\n",
       "    <tr>\n",
       "      <th>0</th>\n",
       "      <td>80.10</td>\n",
       "      <td>7.0</td>\n",
       "      <td>8.0</td>\n",
       "      <td>4.0</td>\n",
       "      <td>18.040</td>\n",
       "      <td>12.518</td>\n",
       "      <td>15.748</td>\n",
       "      <td>19.292</td>\n",
       "      <td>11.739</td>\n",
       "      <td>20.155</td>\n",
       "      <td>10.672</td>\n",
       "      <td>15.859</td>\n",
       "      <td>17.59400</td>\n",
       "      <td>15.193</td>\n",
       "      <td>15.029</td>\n",
       "      <td>13.638146</td>\n",
       "      <td>13.034</td>\n",
       "      <td>14.684</td>\n",
       "      <td>764.100</td>\n",
       "    </tr>\n",
       "    <tr>\n",
       "      <th>1</th>\n",
       "      <td>84.89</td>\n",
       "      <td>14.0</td>\n",
       "      <td>3.0</td>\n",
       "      <td>3.0</td>\n",
       "      <td>18.213</td>\n",
       "      <td>11.540</td>\n",
       "      <td>17.717</td>\n",
       "      <td>17.893</td>\n",
       "      <td>12.748</td>\n",
       "      <td>17.889</td>\n",
       "      <td>12.448</td>\n",
       "      <td>17.947</td>\n",
       "      <td>17.91500</td>\n",
       "      <td>11.755</td>\n",
       "      <td>14.732</td>\n",
       "      <td>15.425000</td>\n",
       "      <td>14.395</td>\n",
       "      <td>15.631</td>\n",
       "      <td>682.057</td>\n",
       "    </tr>\n",
       "    <tr>\n",
       "      <th>2</th>\n",
       "      <td>82.43</td>\n",
       "      <td>12.0</td>\n",
       "      <td>1.0</td>\n",
       "      <td>5.0</td>\n",
       "      <td>18.057</td>\n",
       "      <td>11.652</td>\n",
       "      <td>16.738</td>\n",
       "      <td>18.240</td>\n",
       "      <td>12.718</td>\n",
       "      <td>18.288</td>\n",
       "      <td>12.715</td>\n",
       "      <td>15.607</td>\n",
       "      <td>15.93469</td>\n",
       "      <td>13.798</td>\n",
       "      <td>16.711</td>\n",
       "      <td>18.631000</td>\n",
       "      <td>14.094</td>\n",
       "      <td>17.946</td>\n",
       "      <td>663.376</td>\n",
       "    </tr>\n",
       "    <tr>\n",
       "      <th>3</th>\n",
       "      <td>101.07</td>\n",
       "      <td>13.0</td>\n",
       "      <td>2.0</td>\n",
       "      <td>6.0</td>\n",
       "      <td>17.295</td>\n",
       "      <td>11.188</td>\n",
       "      <td>18.576</td>\n",
       "      <td>18.339</td>\n",
       "      <td>12.583</td>\n",
       "      <td>19.060</td>\n",
       "      <td>12.471</td>\n",
       "      <td>16.346</td>\n",
       "      <td>18.37700</td>\n",
       "      <td>10.020</td>\n",
       "      <td>15.250</td>\n",
       "      <td>15.562000</td>\n",
       "      <td>16.154</td>\n",
       "      <td>17.172</td>\n",
       "      <td>826.282</td>\n",
       "    </tr>\n",
       "    <tr>\n",
       "      <th>4</th>\n",
       "      <td>188.06</td>\n",
       "      <td>9.0</td>\n",
       "      <td>2.0</td>\n",
       "      <td>8.0</td>\n",
       "      <td>19.346</td>\n",
       "      <td>12.950</td>\n",
       "      <td>16.990</td>\n",
       "      <td>15.746</td>\n",
       "      <td>11.306</td>\n",
       "      <td>18.093</td>\n",
       "      <td>10.337</td>\n",
       "      <td>17.082</td>\n",
       "      <td>19.93200</td>\n",
       "      <td>12.428</td>\n",
       "      <td>16.182</td>\n",
       "      <td>12.760000</td>\n",
       "      <td>13.153</td>\n",
       "      <td>16.412</td>\n",
       "      <td>579.885</td>\n",
       "    </tr>\n",
       "  </tbody>\n",
       "</table>\n",
       "</div>"
      ],
      "text/plain": [
       "   loading  measurement_0  measurement_1  measurement_2  measurement_3  \\\n",
       "0    80.10            7.0            8.0            4.0         18.040   \n",
       "1    84.89           14.0            3.0            3.0         18.213   \n",
       "2    82.43           12.0            1.0            5.0         18.057   \n",
       "3   101.07           13.0            2.0            6.0         17.295   \n",
       "4   188.06            9.0            2.0            8.0         19.346   \n",
       "\n",
       "   measurement_4  measurement_5  measurement_6  measurement_7  measurement_8  \\\n",
       "0         12.518         15.748         19.292         11.739         20.155   \n",
       "1         11.540         17.717         17.893         12.748         17.889   \n",
       "2         11.652         16.738         18.240         12.718         18.288   \n",
       "3         11.188         18.576         18.339         12.583         19.060   \n",
       "4         12.950         16.990         15.746         11.306         18.093   \n",
       "\n",
       "   measurement_9  measurement_10  measurement_11  measurement_12  \\\n",
       "0         10.672          15.859        17.59400          15.193   \n",
       "1         12.448          17.947        17.91500          11.755   \n",
       "2         12.715          15.607        15.93469          13.798   \n",
       "3         12.471          16.346        18.37700          10.020   \n",
       "4         10.337          17.082        19.93200          12.428   \n",
       "\n",
       "   measurement_13  measurement_14  measurement_15  measurement_16  \\\n",
       "0          15.029       13.638146          13.034          14.684   \n",
       "1          14.732       15.425000          14.395          15.631   \n",
       "2          16.711       18.631000          14.094          17.946   \n",
       "3          15.250       15.562000          16.154          17.172   \n",
       "4          16.182       12.760000          13.153          16.412   \n",
       "\n",
       "   measurement_17  \n",
       "0         764.100  \n",
       "1         682.057  \n",
       "2         663.376  \n",
       "3         826.282  \n",
       "4         579.885  "
      ]
     },
     "execution_count": 9,
     "metadata": {},
     "output_type": "execute_result"
    }
   ],
   "source": [
    "X.head()"
   ]
  },
  {
   "cell_type": "code",
   "execution_count": null,
   "id": "6c989823",
   "metadata": {},
   "outputs": [],
   "source": [
    "ssss"
   ]
  },
  {
   "cell_type": "markdown",
   "id": "81b16924",
   "metadata": {},
   "source": [
    "# 分類"
   ]
  },
  {
   "cell_type": "code",
   "execution_count": 11,
   "id": "3e11e22d",
   "metadata": {},
   "outputs": [],
   "source": [
    "# 建立 XGBClassifier 模型\n",
    "xgboostModel = XGBClassifier(\n",
    "        eval_metric=\"logloss\",\n",
    "        max_depth=11,\n",
    "        learning_rate=0.0642,\n",
    "        n_estimators=800,\n",
    "        min_child_weight=7,\n",
    "        grow_policy=\"depthwise\",\n",
    "        gamma=1.2840e-06)"
   ]
  },
  {
   "cell_type": "code",
   "execution_count": 12,
   "id": "bac21a3c",
   "metadata": {},
   "outputs": [
    {
     "name": "stdout",
     "output_type": "stream",
     "text": [
      "train accuracy: 0.9990867579908675\n",
      "test auc: 0.5278248480585763\n",
      "train accuracy: 0.9994817920572855\n",
      "test auc: 0.538294350851301\n",
      "train accuracy: 0.999765478424015\n",
      "test auc: 0.5377291286634772\n",
      "train accuracy: 0.9997203840059652\n",
      "test auc: 0.5419046762589929\n",
      "train accuracy: 0.9993479273404751\n",
      "test auc: 0.5399673221431122\n",
      "================\n",
      "avg auc: 0.5371440651950918\n"
     ]
    }
   ],
   "source": [
    "avg_auc=0\n",
    "k_fold_num=5\n",
    "kf = GroupKFold(n_splits=k_fold_num)\n",
    "for train_index, test_index in kf.split(X,y,train_df.product_code):\n",
    "    #print(\"TRAIN:\", train_index, \"TEST:\", test_index)\n",
    "    X_train, X_test = X.iloc[train_index], X.iloc[test_index]\n",
    "    y_train, y_test = y.iloc[train_index], y.iloc[test_index]\n",
    "    \n",
    "    xgboostModel.fit(X_train, y_train)\n",
    "    predicted = xgboostModel.predict(X_train)\n",
    "    accuracy = accuracy_score(y_train, predicted)\n",
    "    print('train auc:',accuracy)\n",
    "    \n",
    "    predicted_test=xgboostModel.predict_proba(X_test)\n",
    "    fpr, tpr, thresholds = metrics.roc_curve(y_test.values, predicted_test[:,1], pos_label=1)\n",
    "    test_score=auc(fpr, tpr)\n",
    "    print('test auc:',test_score)\n",
    "    avg_auc=avg_auc+test_score\n",
    "avg_auc=avg_auc/k_fold_num\n",
    "print(\"================\")\n",
    "print('avg auc:',avg_auc)"
   ]
  },
  {
   "cell_type": "code",
   "execution_count": null,
   "id": "1dab5105",
   "metadata": {},
   "outputs": [],
   "source": [
    "ssss"
   ]
  },
  {
   "cell_type": "markdown",
   "id": "18184e72",
   "metadata": {},
   "source": [
    "# 回歸"
   ]
  },
  {
   "cell_type": "code",
   "execution_count": null,
   "id": "7ff2bf21",
   "metadata": {},
   "outputs": [],
   "source": [
    "'''\n",
    "Number of finished trials: 30\n",
    "Best trial parameters: {'max_depth': 2, 'subsample': 0.35599940538110836, 'n_estimators': 500, 'eta': 0.0012914759281817724, 'alpha': 0.0003539252252004037, 'lambda': 0.05579540084583653, 'gamma': 2.502907754858095e-06, 'min_child_weight': 5, 'grow_policy': 'depthwise', 'colsample_bytree': 0.583022308780028}\n",
    "Best score: 0.5888984402483588\n",
    "'''"
   ]
  },
  {
   "cell_type": "code",
   "execution_count": 49,
   "id": "67b4144d",
   "metadata": {},
   "outputs": [],
   "source": [
    "xgboostModel = XGBRegressor(\n",
    "    lambda=0.05579540084583653,\n",
    "    gamma=2.502907754858095e-06,\n",
    "    depthwise='colsample_bytree',\n",
    "    colsample_bytree=0.583022308780028,\n",
    "    min_child_weight=5,\n",
    "    max_depth=2, \n",
    "    subsample=0.35599940538110836,\n",
    "    eta=0.0012914759281817724,\n",
    "    alpha=0.0003539252252004037,\n",
    "    learning_rate=0.01, \n",
    "    n_estimators=500, \n",
    "    silent=True\n",
    ")"
   ]
  },
  {
   "cell_type": "code",
   "execution_count": 83,
   "id": "208b5b06",
   "metadata": {},
   "outputs": [
    {
     "data": {
      "text/plain": [
       "{'max_depth': 2,\n",
       " 'subsample': 0.35599940538110836,\n",
       " 'n_estimators': 500,\n",
       " 'eta': 0.0012914759281817724,\n",
       " 'alpha': 0.0003539252252004037,\n",
       " 'lambda': 0.05579540084583653,\n",
       " 'gamma': 2.502907754858095e-06,\n",
       " 'min_child_weight': 5,\n",
       " 'grow_policy': 'depthwise',\n",
       " 'colsample_bytree': 0.583022308780028}"
      ]
     },
     "execution_count": 83,
     "metadata": {},
     "output_type": "execute_result"
    }
   ],
   "source": [
    "study.best_trial.params"
   ]
  },
  {
   "cell_type": "code",
   "execution_count": 88,
   "id": "1ced5cb9",
   "metadata": {},
   "outputs": [],
   "source": [
    "xgboostModel = XGBRegressor(**study.best_trial.params)"
   ]
  },
  {
   "cell_type": "code",
   "execution_count": 89,
   "id": "3b16fb66",
   "metadata": {},
   "outputs": [
    {
     "name": "stdout",
     "output_type": "stream",
     "text": [
      "train auc: 0.6036305546238249\n",
      "test auc: 0.585338869952569\n",
      "train auc: 0.6027783053676125\n",
      "test auc: 0.5833394862532388\n",
      "train auc: 0.601989094567562\n",
      "test auc: 0.587178599441704\n",
      "train auc: 0.6000583074945497\n",
      "test auc: 0.5949007419064748\n",
      "train auc: 0.6008154228346725\n",
      "test auc: 0.5937345036878076\n",
      "================\n",
      "avg auc: 0.5888984402483588\n"
     ]
    }
   ],
   "source": [
    "avg_auc=0\n",
    "k_fold_num=5\n",
    "kf = GroupKFold(n_splits=k_fold_num)\n",
    "for train_index, test_index in kf.split(X,y,train_df.product_code):\n",
    "    #print(\"TRAIN:\", train_index, \"TEST:\", test_index)\n",
    "    X_train, X_test = X.iloc[train_index], X.iloc[test_index]\n",
    "    y_train, y_test = y.iloc[train_index], y.iloc[test_index]\n",
    "    \n",
    "    xgboostModel.fit(X_train, y_train)\n",
    "    predicted = xgboostModel.predict(X_train)\n",
    "    \n",
    "    \n",
    "    roc = roc_auc_score(y_train, predicted)\n",
    "    print('train auc:',roc)\n",
    "    \n",
    "    predicted_test=xgboostModel.predict(X_test)\n",
    "    test_score = roc_auc_score(y_test, predicted_test)\n",
    "\n",
    "    print('test auc:',test_score)\n",
    "    avg_auc=avg_auc+test_score\n",
    "avg_auc=avg_auc/k_fold_num\n",
    "print(\"================\")\n",
    "print('avg auc:',avg_auc)"
   ]
  },
  {
   "cell_type": "code",
   "execution_count": null,
   "id": "4e40bf0e",
   "metadata": {},
   "outputs": [],
   "source": []
  },
  {
   "cell_type": "code",
   "execution_count": null,
   "id": "96b03bf2",
   "metadata": {},
   "outputs": [],
   "source": [
    "ssss"
   ]
  },
  {
   "cell_type": "markdown",
   "id": "f3c8680e",
   "metadata": {},
   "source": [
    "## 貝氏優化"
   ]
  },
  {
   "cell_type": "code",
   "execution_count": 80,
   "id": "be3c046b",
   "metadata": {},
   "outputs": [],
   "source": [
    "import optuna\n",
    "import xgboost as xgb\n",
    "from sklearn.metrics import mean_squared_error\n",
    "from sklearn.model_selection import train_test_split\n",
    "\n",
    "def objective(trial,group_info=train_df.product_code, X=X, y=y):\n",
    "    X_train, X_valid, y_train, y_valid = train_test_split(X, y, test_size=0.4)\n",
    "\n",
    "    params = {\n",
    "     'max_depth': trial.suggest_int('max_depth', 1, 10),\n",
    "     \"subsample\": trial.suggest_float(\"subsample\", 0.2, 1.0),\n",
    "     'n_estimators': trial.suggest_int('n_estimators', 100, 1000, 100),\n",
    "     'eta': trial.suggest_float(\"eta\", 1e-8, 1.0, log=True),\n",
    "     'alpha': trial.suggest_float('alpha', 1e-8, 1.0, log=True),\n",
    "     'lambda': trial.suggest_float('lambda', 1e-8, 1.0, log=True),\n",
    "     'gamma': trial.suggest_float(\"gamma\", 1e-8, 1.0, log=True),\n",
    "     'min_child_weight': trial.suggest_int('min_child_weight', 2, 10),\n",
    "     'grow_policy': trial.suggest_categorical(\"grow_policy\", [\"depthwise\", \"lossguide\"]),\n",
    "     \"colsample_bytree\": trial.suggest_float(\"colsample_bytree\", 0.2, 1.0)\n",
    "    }\n",
    "\n",
    "    reg = xgb.XGBRegressor(**params)\n",
    "    \n",
    "    avg_auc=0\n",
    "    k_fold_num=5\n",
    "    kf = GroupKFold(n_splits=k_fold_num)\n",
    "    for train_index, test_index in kf.split(X,y,group_info):\n",
    "        #print(\"TRAIN:\", train_index, \"TEST:\", test_index)\n",
    "        X_train, X_test = X.iloc[train_index], X.iloc[test_index]\n",
    "        y_train, y_test = y.iloc[train_index], y.iloc[test_index]\n",
    "\n",
    "        reg.fit(X_train, y_train)\n",
    "        predicted = reg.predict(X_train)\n",
    "\n",
    "\n",
    "        roc = roc_auc_score(y_train, predicted)\n",
    "        print('train auc:',roc)\n",
    "\n",
    "        predicted_test=reg.predict(X_test)\n",
    "        test_score = roc_auc_score(y_test, predicted_test)\n",
    "\n",
    "        print('test auc:',test_score)\n",
    "        avg_auc=avg_auc+test_score\n",
    "    avg_auc=avg_auc/k_fold_num\n",
    "    print(\"================\")\n",
    "    print('avg auc:',avg_auc)\n",
    "    \n",
    "    reg.fit(X_train, y_train,eval_set=[(X_valid, y_valid)], eval_metric='rmse',verbose=False)\n",
    "    return avg_auc"
   ]
  },
  {
   "cell_type": "code",
   "execution_count": 70,
   "id": "990fa433",
   "metadata": {
    "scrolled": true
   },
   "outputs": [
    {
     "name": "stderr",
     "output_type": "stream",
     "text": [
      "\u001b[32m[I 2022-08-25 17:09:55,840]\u001b[0m A new study created in memory with name: no-name-15301b47-3f5a-4107-a934-45e5ecde6b71\u001b[0m\n"
     ]
    },
    {
     "name": "stdout",
     "output_type": "stream",
     "text": [
      "train rmse: 0.6036305546238249\n",
      "test auc: 0.585338869952569\n",
      "train rmse: 0.6027783053676125\n",
      "test auc: 0.5833394862532388\n",
      "train rmse: 0.601989094567562\n",
      "test auc: 0.587178599441704\n",
      "train rmse: 0.6000583074945497\n",
      "test auc: 0.5949007419064748\n",
      "train rmse: 0.6008154228346725\n",
      "test auc: 0.5937345036878076\n",
      "================\n",
      "avg auc: 0.5888984402483588\n"
     ]
    },
    {
     "name": "stderr",
     "output_type": "stream",
     "text": [
      "\u001b[32m[I 2022-08-25 17:10:07,911]\u001b[0m Trial 0 finished with value: 0.5888984402483588 and parameters: {'max_depth': 2, 'subsample': 0.35599940538110836, 'n_estimators': 500, 'eta': 0.0012914759281817724, 'alpha': 0.0003539252252004037, 'lambda': 0.05579540084583653, 'gamma': 2.502907754858095e-06, 'min_child_weight': 5, 'grow_policy': 'depthwise', 'colsample_bytree': 0.583022308780028}. Best is trial 0 with value: 0.5888984402483588.\u001b[0m\n"
     ]
    },
    {
     "name": "stdout",
     "output_type": "stream",
     "text": [
      "train rmse: 0.8382347016593459\n",
      "test auc: 0.5359728759761222\n",
      "train rmse: 0.8364774440437107\n",
      "test auc: 0.5354833911707805\n",
      "train rmse: 0.8349531205799143\n",
      "test auc: 0.5552496934082317\n",
      "train rmse: 0.8411372888339761\n",
      "test auc: 0.5475674460431654\n",
      "train rmse: 0.8403751301806658\n",
      "test auc: 0.5485992811572069\n",
      "================\n",
      "avg auc: 0.5445745375511013\n"
     ]
    },
    {
     "name": "stderr",
     "output_type": "stream",
     "text": [
      "\u001b[32m[I 2022-08-25 17:10:33,865]\u001b[0m Trial 1 finished with value: 0.5445745375511013 and parameters: {'max_depth': 3, 'subsample': 0.4954650154618234, 'n_estimators': 700, 'eta': 0.0968390580713009, 'alpha': 0.0041324477062628295, 'lambda': 0.468891351472142, 'gamma': 4.74420492622751e-05, 'min_child_weight': 8, 'grow_policy': 'lossguide', 'colsample_bytree': 0.6716433549756831}. Best is trial 0 with value: 0.5888984402483588.\u001b[0m\n"
     ]
    },
    {
     "name": "stdout",
     "output_type": "stream",
     "text": [
      "train rmse: 0.6757867551024618\n",
      "test auc: 0.5777265595412\n",
      "train rmse: 0.6715600477242607\n",
      "test auc: 0.5794077704336336\n",
      "train rmse: 0.6690569668299698\n",
      "test auc: 0.5823173990149211\n",
      "train rmse: 0.6705514405603594\n",
      "test auc: 0.591060476618705\n",
      "train rmse: 0.6734324805024121\n",
      "test auc: 0.5839747141782184\n",
      "================\n",
      "avg auc: 0.5828973839573356\n"
     ]
    },
    {
     "name": "stderr",
     "output_type": "stream",
     "text": [
      "\u001b[32m[I 2022-08-25 17:11:26,397]\u001b[0m Trial 2 finished with value: 0.5828973839573356 and parameters: {'max_depth': 6, 'subsample': 0.39317199006746695, 'n_estimators': 700, 'eta': 1.265177427662198e-05, 'alpha': 0.0033849602108205236, 'lambda': 1.0374992258907587e-08, 'gamma': 1.5051266979558036e-06, 'min_child_weight': 8, 'grow_policy': 'depthwise', 'colsample_bytree': 0.9373730383147836}. Best is trial 0 with value: 0.5888984402483588.\u001b[0m\n"
     ]
    },
    {
     "name": "stdout",
     "output_type": "stream",
     "text": [
      "train rmse: 1.0\n",
      "test auc: 0.5255824270951686\n",
      "train rmse: 1.0\n",
      "test auc: 0.5246461786526257\n",
      "train rmse: 0.9999998829277903\n",
      "test auc: 0.5296676219166468\n",
      "train rmse: 0.9999999478967053\n",
      "test auc: 0.5210086555755395\n",
      "train rmse: 0.9999999737671201\n",
      "test auc: 0.5159016108830443\n",
      "================\n",
      "avg auc: 0.5233612988246049\n"
     ]
    },
    {
     "name": "stderr",
     "output_type": "stream",
     "text": [
      "\u001b[32m[I 2022-08-25 17:12:23,493]\u001b[0m Trial 3 finished with value: 0.5233612988246049 and parameters: {'max_depth': 8, 'subsample': 0.607932963212982, 'n_estimators': 700, 'eta': 0.07876083469387482, 'alpha': 4.302391391452817e-05, 'lambda': 2.361769716114186e-06, 'gamma': 7.648262701979932e-07, 'min_child_weight': 7, 'grow_policy': 'depthwise', 'colsample_bytree': 0.5144949263540908}. Best is trial 0 with value: 0.5888984402483588.\u001b[0m\n"
     ]
    },
    {
     "name": "stdout",
     "output_type": "stream",
     "text": [
      "train rmse: 0.5\n",
      "test auc: 0.5\n",
      "train rmse: 0.5\n",
      "test auc: 0.5\n",
      "train rmse: 0.5\n",
      "test auc: 0.5\n",
      "train rmse: 0.5\n",
      "test auc: 0.5\n",
      "train rmse: 0.5\n",
      "test auc: 0.5\n",
      "================\n",
      "avg auc: 0.5\n"
     ]
    },
    {
     "name": "stderr",
     "output_type": "stream",
     "text": [
      "\u001b[32m[I 2022-08-25 17:12:28,889]\u001b[0m Trial 4 finished with value: 0.5 and parameters: {'max_depth': 7, 'subsample': 0.759023086491031, 'n_estimators': 100, 'eta': 1.1977805167814952e-08, 'alpha': 0.8914861109913579, 'lambda': 0.028498799607362492, 'gamma': 0.00015621859622342292, 'min_child_weight': 2, 'grow_policy': 'lossguide', 'colsample_bytree': 0.20279425293102432}. Best is trial 0 with value: 0.5888984402483588.\u001b[0m\n"
     ]
    },
    {
     "name": "stdout",
     "output_type": "stream",
     "text": [
      "train rmse: 0.969076698985006\n",
      "test auc: 0.5447265054374291\n",
      "train rmse: 0.9616656084671721\n",
      "test auc: 0.5512086539787057\n",
      "train rmse: 0.9344980335836204\n",
      "test auc: 0.5627866655677065\n",
      "train rmse: 0.95575306800156\n",
      "test auc: 0.5601892985611511\n",
      "train rmse: 0.9642140498057454\n",
      "test auc: 0.5500638297546271\n",
      "================\n",
      "avg auc: 0.5537949906599239\n"
     ]
    },
    {
     "name": "stderr",
     "output_type": "stream",
     "text": [
      "\u001b[32m[I 2022-08-25 17:12:38,122]\u001b[0m Trial 5 finished with value: 0.5537949906599239 and parameters: {'max_depth': 10, 'subsample': 0.9760842522454307, 'n_estimators': 100, 'eta': 0.0002908147482062759, 'alpha': 0.0028202215715506366, 'lambda': 3.022795123585762e-08, 'gamma': 1.6132040636987177e-08, 'min_child_weight': 4, 'grow_policy': 'depthwise', 'colsample_bytree': 0.257724289353864}. Best is trial 0 with value: 0.5888984402483588.\u001b[0m\n"
     ]
    },
    {
     "name": "stdout",
     "output_type": "stream",
     "text": [
      "train rmse: 0.6938360872730834\n",
      "test auc: 0.5766957925300726\n",
      "train rmse: 0.6906723193219135\n",
      "test auc: 0.5769736682058213\n",
      "train rmse: 0.686608601625657\n",
      "test auc: 0.5778611759719005\n",
      "train rmse: 0.690149215629837\n",
      "test auc: 0.5855731789568345\n",
      "train rmse: 0.6937980553566229\n",
      "test auc: 0.5859154408456572\n",
      "================\n",
      "avg auc: 0.5806038513020572\n"
     ]
    },
    {
     "name": "stderr",
     "output_type": "stream",
     "text": [
      "\u001b[32m[I 2022-08-25 17:13:01,523]\u001b[0m Trial 6 finished with value: 0.5806038513020572 and parameters: {'max_depth': 4, 'subsample': 0.38207738319734114, 'n_estimators': 700, 'eta': 0.007939257989362463, 'alpha': 0.0014099344360617731, 'lambda': 0.0024327692196158238, 'gamma': 0.00013271598408653084, 'min_child_weight': 10, 'grow_policy': 'lossguide', 'colsample_bytree': 0.3917285231386138}. Best is trial 0 with value: 0.5888984402483588.\u001b[0m\n"
     ]
    },
    {
     "name": "stdout",
     "output_type": "stream",
     "text": [
      "train rmse: 0.6758749884046867\n",
      "test auc: 0.5766610759436599\n",
      "train rmse: 0.6867582037815164\n",
      "test auc: 0.5745440472953969\n",
      "train rmse: 0.6640682793224812\n",
      "test auc: 0.5748113351097843\n",
      "train rmse: 0.6771690214077719\n",
      "test auc: 0.5908648830935251\n",
      "train rmse: 0.6752707364356337\n",
      "test auc: 0.5781343627828853\n",
      "================\n",
      "avg auc: 0.5790031408450503\n"
     ]
    },
    {
     "name": "stderr",
     "output_type": "stream",
     "text": [
      "\u001b[32m[I 2022-08-25 17:13:29,369]\u001b[0m Trial 7 finished with value: 0.5790031408450503 and parameters: {'max_depth': 6, 'subsample': 0.9456979413511333, 'n_estimators': 300, 'eta': 4.55048025168805e-05, 'alpha': 0.01740834413496496, 'lambda': 5.689664478513738e-07, 'gamma': 0.0007174886634755186, 'min_child_weight': 2, 'grow_policy': 'depthwise', 'colsample_bytree': 0.7108698773985227}. Best is trial 0 with value: 0.5888984402483588.\u001b[0m\n"
     ]
    },
    {
     "name": "stdout",
     "output_type": "stream",
     "text": [
      "train rmse: 0.5\n",
      "test auc: 0.5\n",
      "train rmse: 0.5\n",
      "test auc: 0.5\n",
      "train rmse: 0.5\n",
      "test auc: 0.5\n",
      "train rmse: 0.5\n",
      "test auc: 0.5\n",
      "train rmse: 0.5\n",
      "test auc: 0.5\n",
      "================\n",
      "avg auc: 0.5\n"
     ]
    },
    {
     "name": "stderr",
     "output_type": "stream",
     "text": [
      "\u001b[32m[I 2022-08-25 17:14:00,687]\u001b[0m Trial 8 finished with value: 0.5 and parameters: {'max_depth': 3, 'subsample': 0.2604050459507035, 'n_estimators': 900, 'eta': 1.0193417821570511e-08, 'alpha': 0.6004570166138946, 'lambda': 0.5214820357056421, 'gamma': 0.02737605606535432, 'min_child_weight': 5, 'grow_policy': 'depthwise', 'colsample_bytree': 0.9574079998871188}. Best is trial 0 with value: 0.5888984402483588.\u001b[0m\n"
     ]
    },
    {
     "name": "stdout",
     "output_type": "stream",
     "text": [
      "train rmse: 0.5930115364129236\n",
      "test auc: 0.5735812187776155\n",
      "train rmse: 0.5915223206386159\n",
      "test auc: 0.5760455020163794\n",
      "train rmse: 0.5905929409542018\n",
      "test auc: 0.5805825741752817\n",
      "train rmse: 0.5909373326710831\n",
      "test auc: 0.5930631744604316\n",
      "train rmse: 0.588228736283483\n",
      "test auc: 0.5874659204281267\n",
      "================\n",
      "avg auc: 0.5821476779715669\n"
     ]
    },
    {
     "name": "stderr",
     "output_type": "stream",
     "text": [
      "\u001b[32m[I 2022-08-25 17:14:19,546]\u001b[0m Trial 9 finished with value: 0.5821476779715669 and parameters: {'max_depth': 1, 'subsample': 0.6925921080511769, 'n_estimators': 900, 'eta': 3.555963349647331e-05, 'alpha': 0.0013282782418172758, 'lambda': 1.9582246300502553e-07, 'gamma': 0.009386883490811617, 'min_child_weight': 5, 'grow_policy': 'depthwise', 'colsample_bytree': 0.6900403301325164}. Best is trial 0 with value: 0.5888984402483588.\u001b[0m\n"
     ]
    },
    {
     "name": "stdout",
     "output_type": "stream",
     "text": [
      "train rmse: 0.5981039608487074\n",
      "test auc: 0.5758514130101535\n",
      "train rmse: 0.5960202775861949\n",
      "test auc: 0.5771710595669511\n",
      "train rmse: 0.5956260768773396\n",
      "test auc: 0.5858422986140422\n",
      "train rmse: 0.5947759777811753\n",
      "test auc: 0.5923993929856115\n",
      "train rmse: 0.5930502871188691\n",
      "test auc: 0.5928686258639349\n",
      "================\n",
      "avg auc: 0.5848265580081387\n"
     ]
    },
    {
     "name": "stderr",
     "output_type": "stream",
     "text": [
      "\u001b[32m[I 2022-08-25 17:14:26,306]\u001b[0m Trial 10 finished with value: 0.5848265580081387 and parameters: {'max_depth': 1, 'subsample': 0.22509751955028318, 'n_estimators': 400, 'eta': 6.145007132765533e-07, 'alpha': 2.3327128235306664e-07, 'lambda': 9.777973788191497e-05, 'gamma': 2.5321584651602574e-08, 'min_child_weight': 4, 'grow_policy': 'lossguide', 'colsample_bytree': 0.5234006398733639}. Best is trial 0 with value: 0.5888984402483588.\u001b[0m\n"
     ]
    },
    {
     "name": "stdout",
     "output_type": "stream",
     "text": [
      "train rmse: 0.5977275750502169\n",
      "test auc: 0.5743934065537701\n",
      "train rmse: 0.5955003450604636\n",
      "test auc: 0.5783772808305033\n",
      "train rmse: 0.5960169159457045\n",
      "test auc: 0.5869784316993244\n",
      "train rmse: 0.5953661322618431\n",
      "test auc: 0.594467063848921\n",
      "train rmse: 0.5926333745189546\n",
      "test auc: 0.5912231295999075\n",
      "================\n",
      "avg auc: 0.5850878625064853\n"
     ]
    },
    {
     "name": "stderr",
     "output_type": "stream",
     "text": [
      "\u001b[32m[I 2022-08-25 17:14:33,295]\u001b[0m Trial 11 finished with value: 0.5850878625064853 and parameters: {'max_depth': 1, 'subsample': 0.2234899805688688, 'n_estimators': 400, 'eta': 8.181156491885886e-07, 'alpha': 1.0285409925137645e-07, 'lambda': 7.53316115909904e-05, 'gamma': 2.025030440143548e-08, 'min_child_weight': 4, 'grow_policy': 'lossguide', 'colsample_bytree': 0.5021342084676202}. Best is trial 0 with value: 0.5888984402483588.\u001b[0m\n"
     ]
    },
    {
     "name": "stdout",
     "output_type": "stream",
     "text": [
      "train rmse: 0.5978000836737658\n",
      "test auc: 0.576796335371242\n",
      "train rmse: 0.5971769570960311\n",
      "test auc: 0.577670726455692\n",
      "train rmse: 0.5971853096074099\n",
      "test auc: 0.5864738233125678\n",
      "train rmse: 0.5952376715886869\n",
      "test auc: 0.5927165017985612\n",
      "train rmse: 0.5950317155516381\n",
      "test auc: 0.592350303298064\n",
      "================\n",
      "avg auc: 0.5852015380472254\n"
     ]
    },
    {
     "name": "stderr",
     "output_type": "stream",
     "text": [
      "\u001b[32m[I 2022-08-25 17:14:40,667]\u001b[0m Trial 12 finished with value: 0.5852015380472254 and parameters: {'max_depth': 1, 'subsample': 0.34490672216362867, 'n_estimators': 400, 'eta': 0.00186022285238689, 'alpha': 3.441959779365503e-08, 'lambda': 5.25780958152041e-05, 'gamma': 9.67470340780653e-07, 'min_child_weight': 4, 'grow_policy': 'lossguide', 'colsample_bytree': 0.48191009155304276}. Best is trial 0 with value: 0.5888984402483588.\u001b[0m\n"
     ]
    },
    {
     "name": "stdout",
     "output_type": "stream",
     "text": [
      "train rmse: 0.6307881294435143\n",
      "test auc: 0.5822260996591463\n",
      "train rmse: 0.6287330821554213\n",
      "test auc: 0.5818145579649868\n",
      "train rmse: 0.6249007829282077\n",
      "test auc: 0.5820031084872934\n",
      "train rmse: 0.6269982574183336\n",
      "test auc: 0.5915338354316546\n",
      "train rmse: 0.6280696535423569\n",
      "test auc: 0.5891245526389132\n",
      "================\n",
      "avg auc: 0.5853404308363989\n"
     ]
    },
    {
     "name": "stderr",
     "output_type": "stream",
     "text": [
      "\u001b[32m[I 2022-08-25 17:14:54,178]\u001b[0m Trial 13 finished with value: 0.5853404308363989 and parameters: {'max_depth': 3, 'subsample': 0.41209152761674134, 'n_estimators': 500, 'eta': 0.002177775850837917, 'alpha': 1.4737382423415514e-05, 'lambda': 0.003274312078327594, 'gamma': 1.7442173405115598e-06, 'min_child_weight': 6, 'grow_policy': 'lossguide', 'colsample_bytree': 0.36824847659279397}. Best is trial 0 with value: 0.5888984402483588.\u001b[0m\n"
     ]
    },
    {
     "name": "stdout",
     "output_type": "stream",
     "text": [
      "train rmse: 0.9608683546722027\n",
      "test auc: 0.5105578098793485\n",
      "train rmse: 0.9613720089020692\n",
      "test auc: 0.5052813392395674\n",
      "train rmse: 0.9557580737125917\n",
      "test auc: 0.5021454630758446\n",
      "train rmse: 0.9566582390021635\n",
      "test auc: 0.5194946043165468\n",
      "train rmse: 0.9587078995070842\n",
      "test auc: 0.518525735180627\n",
      "================\n",
      "avg auc: 0.5112009903383868\n"
     ]
    },
    {
     "name": "stderr",
     "output_type": "stream",
     "text": [
      "\u001b[32m[I 2022-08-25 17:15:12,511]\u001b[0m Trial 14 finished with value: 0.5112009903383868 and parameters: {'max_depth': 4, 'subsample': 0.5070432907722705, 'n_estimators': 500, 'eta': 0.6535334286929331, 'alpha': 7.22616378896391e-06, 'lambda': 0.004194014302278967, 'gamma': 1.0629554727076272e-05, 'min_child_weight': 6, 'grow_policy': 'lossguide', 'colsample_bytree': 0.3749332867048524}. Best is trial 0 with value: 0.5888984402483588.\u001b[0m\n"
     ]
    },
    {
     "name": "stdout",
     "output_type": "stream",
     "text": [
      "train rmse: 0.6185160552485103\n",
      "test auc: 0.5814290609388808\n",
      "train rmse: 0.6166853278665468\n",
      "test auc: 0.5799694288795725\n",
      "train rmse: 0.6155081185610041\n",
      "test auc: 0.5818113188065293\n",
      "train rmse: 0.6140208898000076\n",
      "test auc: 0.5934358138489209\n",
      "train rmse: 0.6158457283690232\n",
      "test auc: 0.5910235726753916\n",
      "================\n",
      "avg auc: 0.585533839029859\n"
     ]
    },
    {
     "name": "stderr",
     "output_type": "stream",
     "text": [
      "\u001b[32m[I 2022-08-25 17:15:38,097]\u001b[0m Trial 15 finished with value: 0.585533839029859 and parameters: {'max_depth': 3, 'subsample': 0.4893310564404964, 'n_estimators': 600, 'eta': 0.0022796749132348608, 'alpha': 2.567586531155877e-06, 'lambda': 0.034058179552529225, 'gamma': 3.338623040647764e-07, 'min_child_weight': 6, 'grow_policy': 'depthwise', 'colsample_bytree': 0.8142024731580724}. Best is trial 0 with value: 0.5888984402483588.\u001b[0m\n"
     ]
    },
    {
     "name": "stdout",
     "output_type": "stream",
     "text": [
      "train rmse: 0.628000428626752\n",
      "test auc: 0.5817114826236722\n",
      "train rmse: 0.625490339705522\n",
      "test auc: 0.5799690020874404\n",
      "train rmse: 0.6238154585033585\n",
      "test auc: 0.5824565427679667\n",
      "train rmse: 0.6237733435297744\n",
      "test auc: 0.593117131294964\n",
      "train rmse: 0.6267783138029545\n",
      "test auc: 0.5867621620805062\n",
      "================\n",
      "avg auc: 0.5848032641709099\n"
     ]
    },
    {
     "name": "stderr",
     "output_type": "stream",
     "text": [
      "\u001b[32m[I 2022-08-25 17:16:12,044]\u001b[0m Trial 16 finished with value: 0.5848032641709099 and parameters: {'max_depth': 4, 'subsample': 0.5524476804887004, 'n_estimators': 600, 'eta': 0.00043554805961427647, 'alpha': 2.709420392999467e-06, 'lambda': 0.05574720720508586, 'gamma': 1.1419569366597587e-07, 'min_child_weight': 10, 'grow_policy': 'depthwise', 'colsample_bytree': 0.8224304767853408}. Best is trial 0 with value: 0.5888984402483588.\u001b[0m\n"
     ]
    },
    {
     "name": "stdout",
     "output_type": "stream",
     "text": [
      "train rmse: 0.649288782641565\n",
      "test auc: 0.5762152608703494\n",
      "train rmse: 0.648490755614601\n",
      "test auc: 0.5743203015201055\n",
      "train rmse: 0.6456029674735286\n",
      "test auc: 0.5775835677681025\n",
      "train rmse: 0.6459240823473296\n",
      "test auc: 0.5893781474820143\n",
      "train rmse: 0.6470672427407063\n",
      "test auc: 0.5864507306760919\n",
      "================\n",
      "avg auc: 0.5807896016633326\n"
     ]
    },
    {
     "name": "stderr",
     "output_type": "stream",
     "text": [
      "\u001b[32m[I 2022-08-25 17:16:46,342]\u001b[0m Trial 17 finished with value: 0.5807896016633326 and parameters: {'max_depth': 2, 'subsample': 0.707125585933631, 'n_estimators': 1000, 'eta': 0.016224675955005947, 'alpha': 1.1953678344107286e-06, 'lambda': 0.05270334187275935, 'gamma': 1.1296934242906515e-05, 'min_child_weight': 8, 'grow_policy': 'depthwise', 'colsample_bytree': 0.8247131482643106}. Best is trial 0 with value: 0.5888984402483588.\u001b[0m\n"
     ]
    },
    {
     "name": "stdout",
     "output_type": "stream",
     "text": [
      "train rmse: 0.6495244115399206\n",
      "test auc: 0.5795777200670886\n",
      "train rmse: 0.6467347654235324\n",
      "test auc: 0.5789539836991013\n",
      "train rmse: 0.6418591087727137\n",
      "test auc: 0.5821523285576873\n",
      "train rmse: 0.642479702868457\n",
      "test auc: 0.5911672661870504\n",
      "train rmse: 0.6434256665118927\n",
      "test auc: 0.587691201915046\n",
      "================\n",
      "avg auc: 0.5839085000851947\n"
     ]
    },
    {
     "name": "stderr",
     "output_type": "stream",
     "text": [
      "\u001b[32m[I 2022-08-25 17:17:00,279]\u001b[0m Trial 18 finished with value: 0.5839085000851947 and parameters: {'max_depth': 5, 'subsample': 0.32282553846640244, 'n_estimators': 200, 'eta': 5.319614386537319e-06, 'alpha': 0.00015391885360713413, 'lambda': 0.0006299455745775644, 'gamma': 0.42617195148032117, 'min_child_weight': 7, 'grow_policy': 'depthwise', 'colsample_bytree': 0.7983656273217428}. Best is trial 0 with value: 0.5888984402483588.\u001b[0m\n"
     ]
    },
    {
     "name": "stdout",
     "output_type": "stream",
     "text": [
      "train rmse: 0.6020868820139236\n",
      "test auc: 0.5854247146026078\n",
      "train rmse: 0.6006083521255878\n",
      "test auc: 0.5823312965390145\n",
      "train rmse: 0.6005398836986456\n",
      "test auc: 0.5860678269753659\n",
      "train rmse: 0.5995627139809044\n",
      "test auc: 0.5948148606115108\n",
      "train rmse: 0.6002361352672212\n",
      "test auc: 0.5924333881613156\n",
      "================\n",
      "avg auc: 0.5882144173779629\n"
     ]
    },
    {
     "name": "stderr",
     "output_type": "stream",
     "text": [
      "\u001b[32m[I 2022-08-25 17:17:21,045]\u001b[0m Trial 19 finished with value: 0.5882144173779629 and parameters: {'max_depth': 2, 'subsample': 0.6158297434019993, 'n_estimators': 600, 'eta': 0.0004550762252183294, 'alpha': 0.0001500000991873946, 'lambda': 1.1089137623349549e-05, 'gamma': 2.8712680661951943e-07, 'min_child_weight': 3, 'grow_policy': 'depthwise', 'colsample_bytree': 0.6036530646631425}. Best is trial 0 with value: 0.5888984402483588.\u001b[0m\n"
     ]
    },
    {
     "name": "stdout",
     "output_type": "stream",
     "text": [
      "train rmse: 0.6020036397977844\n",
      "test auc: 0.5842753701599668\n",
      "train rmse: 0.6013658386077511\n",
      "test auc: 0.581634131591111\n",
      "train rmse: 0.6013905759030453\n",
      "test auc: 0.5870264357280399\n",
      "train rmse: 0.6016948719820094\n",
      "test auc: 0.593976506294964\n",
      "train rmse: 0.6018333044771655\n",
      "test auc: 0.5868600248838618\n",
      "================\n",
      "avg auc: 0.5867544937315887\n"
     ]
    },
    {
     "name": "stderr",
     "output_type": "stream",
     "text": [
      "\u001b[32m[I 2022-08-25 17:17:45,229]\u001b[0m Trial 20 finished with value: 0.5867544937315887 and parameters: {'max_depth': 2, 'subsample': 0.8169817382125907, 'n_estimators': 800, 'eta': 0.00018534388014438855, 'alpha': 9.981541304135636e-05, 'lambda': 7.548862902343116e-06, 'gamma': 1.0483095399322002e-05, 'min_child_weight': 3, 'grow_policy': 'depthwise', 'colsample_bytree': 0.5746617438170731}. Best is trial 0 with value: 0.5888984402483588.\u001b[0m\n"
     ]
    },
    {
     "name": "stdout",
     "output_type": "stream",
     "text": [
      "train rmse: 0.6014780177678253\n",
      "test auc: 0.5840018755973958\n",
      "train rmse: 0.6007276271550579\n",
      "test auc: 0.5818399520968511\n",
      "train rmse: 0.6003005555817811\n",
      "test auc: 0.5866135331508576\n",
      "train rmse: 0.5999488970885292\n",
      "test auc: 0.5946147706834533\n",
      "train rmse: 0.600742128168604\n",
      "test auc: 0.5891226917131223\n",
      "================\n",
      "avg auc: 0.5872385646483359\n"
     ]
    },
    {
     "name": "stderr",
     "output_type": "stream",
     "text": [
      "\u001b[32m[I 2022-08-25 17:18:08,812]\u001b[0m Trial 21 finished with value: 0.5872385646483359 and parameters: {'max_depth': 2, 'subsample': 0.8376014145310287, 'n_estimators': 800, 'eta': 0.00034073735908760023, 'alpha': 0.0001904852562556296, 'lambda': 7.713162444387906e-06, 'gamma': 6.013575165695044e-06, 'min_child_weight': 3, 'grow_policy': 'depthwise', 'colsample_bytree': 0.6021139467154314}. Best is trial 0 with value: 0.5888984402483588.\u001b[0m\n"
     ]
    },
    {
     "name": "stdout",
     "output_type": "stream",
     "text": [
      "train rmse: 0.601986825904189\n",
      "test auc: 0.5843521975148335\n",
      "train rmse: 0.6011654109090402\n",
      "test auc: 0.581919015339336\n",
      "train rmse: 0.6006777427296824\n",
      "test auc: 0.5866348179560428\n",
      "train rmse: 0.5999437388623509\n",
      "test auc: 0.5955182104316548\n",
      "train rmse: 0.6006984569820122\n",
      "test auc: 0.5903735622432607\n",
      "================\n",
      "avg auc: 0.5877595606970255\n"
     ]
    },
    {
     "name": "stderr",
     "output_type": "stream",
     "text": [
      "\u001b[32m[I 2022-08-25 17:18:33,642]\u001b[0m Trial 22 finished with value: 0.5877595606970255 and parameters: {'max_depth': 2, 'subsample': 0.8671679875123066, 'n_estimators': 800, 'eta': 0.0006713168970801617, 'alpha': 0.0002994143372518788, 'lambda': 1.372819891201724e-05, 'gamma': 1.5530162810473853e-07, 'min_child_weight': 3, 'grow_policy': 'depthwise', 'colsample_bytree': 0.6056615718931861}. Best is trial 0 with value: 0.5888984402483588.\u001b[0m\n"
     ]
    },
    {
     "name": "stdout",
     "output_type": "stream",
     "text": [
      "train rmse: 0.6294437486950103\n",
      "test auc: 0.5795880899565367\n",
      "train rmse: 0.6297329183988075\n",
      "test auc: 0.5801461208222919\n",
      "train rmse: 0.6244762010473774\n",
      "test auc: 0.579855947155716\n",
      "train rmse: 0.6263226860988683\n",
      "test auc: 0.5935327113309352\n",
      "train rmse: 0.62699594833172\n",
      "test auc: 0.5891217065171154\n",
      "================\n",
      "avg auc: 0.584448915156519\n"
     ]
    },
    {
     "name": "stderr",
     "output_type": "stream",
     "text": [
      "\u001b[32m[I 2022-08-25 17:18:53,757]\u001b[0m Trial 23 finished with value: 0.584448915156519 and parameters: {'max_depth': 2, 'subsample': 0.8972988524033199, 'n_estimators': 600, 'eta': 0.01556395341569281, 'alpha': 0.04644618125156489, 'lambda': 1.2971067169153589e-05, 'gamma': 1.2408993327203002e-07, 'min_child_weight': 3, 'grow_policy': 'depthwise', 'colsample_bytree': 0.6185791249746124}. Best is trial 0 with value: 0.5888984402483588.\u001b[0m\n"
     ]
    },
    {
     "name": "stdout",
     "output_type": "stream",
     "text": [
      "train rmse: 0.6384137230932204\n",
      "test auc: 0.5798508539378529\n",
      "train rmse: 0.6362762366144272\n",
      "test auc: 0.5806494154441562\n",
      "train rmse: 0.6326981888447849\n",
      "test auc: 0.5791173191289714\n",
      "train rmse: 0.634490887049084\n",
      "test auc: 0.5944054631294964\n",
      "train rmse: 0.6351104535402582\n",
      "test auc: 0.5887262050534426\n",
      "================\n",
      "avg auc: 0.5845498513387839\n"
     ]
    },
    {
     "name": "stderr",
     "output_type": "stream",
     "text": [
      "\u001b[32m[I 2022-08-25 17:19:39,733]\u001b[0m Trial 24 finished with value: 0.5845498513387839 and parameters: {'max_depth': 4, 'subsample': 0.6135818659487704, 'n_estimators': 800, 'eta': 0.0011779518391523056, 'alpha': 0.000422706224053856, 'lambda': 0.0004565384461402342, 'gamma': 1.1140780297823477e-07, 'min_child_weight': 2, 'grow_policy': 'depthwise', 'colsample_bytree': 0.7375333674528888}. Best is trial 0 with value: 0.5888984402483588.\u001b[0m\n"
     ]
    },
    {
     "name": "stdout",
     "output_type": "stream",
     "text": [
      "train rmse: 0.6616264785885717\n",
      "test auc: 0.5788065609839673\n",
      "train rmse: 0.6592956378415095\n",
      "test auc: 0.5787192480264064\n",
      "train rmse: 0.6495186426502306\n",
      "test auc: 0.5777847544639219\n",
      "train rmse: 0.6585992378303995\n",
      "test auc: 0.5925008992805756\n",
      "train rmse: 0.6575460452622107\n",
      "test auc: 0.582604197066349\n",
      "================\n",
      "avg auc: 0.5820831319642441\n"
     ]
    },
    {
     "name": "stderr",
     "output_type": "stream",
     "text": [
      "\u001b[32m[I 2022-08-25 17:20:15,921]\u001b[0m Trial 25 finished with value: 0.5820831319642441 and parameters: {'max_depth': 5, 'subsample': 0.6647622633274394, 'n_estimators': 500, 'eta': 2.7539893182398156e-06, 'alpha': 3.162542281879541e-05, 'lambda': 9.310844130040339e-07, 'gamma': 3.2184594353542714e-07, 'min_child_weight': 5, 'grow_policy': 'depthwise', 'colsample_bytree': 0.6454107117982331}. Best is trial 0 with value: 0.5888984402483588.\u001b[0m\n"
     ]
    },
    {
     "name": "stdout",
     "output_type": "stream",
     "text": [
      "train rmse: 0.6037799425181303\n",
      "test auc: 0.58273494562571\n",
      "train rmse: 0.6036343136442085\n",
      "test auc: 0.5807991127845156\n",
      "train rmse: 0.6029489631116003\n",
      "test auc: 0.5843301717095049\n",
      "train rmse: 0.6041316323570162\n",
      "test auc: 0.5933204811151078\n",
      "train rmse: 0.6024820108027\n",
      "test auc: 0.5834130429880426\n",
      "================\n",
      "avg auc: 0.5849195508445761\n"
     ]
    },
    {
     "name": "stderr",
     "output_type": "stream",
     "text": [
      "\u001b[32m[I 2022-08-25 17:20:41,044]\u001b[0m Trial 26 finished with value: 0.5849195508445761 and parameters: {'max_depth': 2, 'subsample': 0.8305634329072441, 'n_estimators': 1000, 'eta': 5.9651876833311107e-05, 'alpha': 0.0005370504369342131, 'lambda': 2.4048156776311338e-05, 'gamma': 5.948309345860332e-08, 'min_child_weight': 3, 'grow_policy': 'depthwise', 'colsample_bytree': 0.45285021145544374}. Best is trial 0 with value: 0.5888984402483588.\u001b[0m\n"
     ]
    },
    {
     "name": "stdout",
     "output_type": "stream",
     "text": [
      "train rmse: 0.9999937680361581\n",
      "test auc: 0.533247669029198\n",
      "train rmse: 0.9999919124392385\n",
      "test auc: 0.5102792885033723\n",
      "train rmse: 0.9999681563589378\n",
      "test auc: 0.5277033061189739\n",
      "train rmse: 0.9999973557577924\n",
      "test auc: 0.547976393884892\n",
      "train rmse: 0.999992458047067\n",
      "test auc: 0.5362502870751698\n",
      "================\n",
      "avg auc: 0.5310913889223212\n"
     ]
    },
    {
     "name": "stderr",
     "output_type": "stream",
     "text": [
      "\u001b[32m[I 2022-08-25 17:21:14,104]\u001b[0m Trial 27 finished with value: 0.5310913889223212 and parameters: {'max_depth': 10, 'subsample': 0.44335485034228866, 'n_estimators': 300, 'eta': 0.06869564742488947, 'alpha': 0.022563103668426454, 'lambda': 0.00038977431399579357, 'gamma': 3.6369324050161114e-06, 'min_child_weight': 3, 'grow_policy': 'depthwise', 'colsample_bytree': 0.5621183130010116}. Best is trial 0 with value: 0.5888984402483588.\u001b[0m\n"
     ]
    },
    {
     "name": "stdout",
     "output_type": "stream",
     "text": [
      "train rmse: 0.973371769843538\n",
      "test auc: 0.5637145845732114\n",
      "train rmse: 0.9698273821639758\n",
      "test auc: 0.5589586656087913\n",
      "train rmse: 0.9657104863308374\n",
      "test auc: 0.5673413874432329\n",
      "train rmse: 0.9748796013347666\n",
      "test auc: 0.5783476843525179\n",
      "train rmse: 0.9722504007072384\n",
      "test auc: 0.5672012048290367\n",
      "================\n",
      "avg auc: 0.567112705361358\n"
     ]
    },
    {
     "name": "stderr",
     "output_type": "stream",
     "text": [
      "\u001b[32m[I 2022-08-25 17:22:24,636]\u001b[0m Trial 28 finished with value: 0.567112705361358 and parameters: {'max_depth': 8, 'subsample': 0.7561854281639282, 'n_estimators': 900, 'eta': 0.008414242917687843, 'alpha': 3.802804973294087e-05, 'lambda': 1.111939139654807e-07, 'gamma': 4.053896557968126e-05, 'min_child_weight': 5, 'grow_policy': 'depthwise', 'colsample_bytree': 0.427740650265781}. Best is trial 0 with value: 0.5888984402483588.\u001b[0m\n"
     ]
    },
    {
     "name": "stdout",
     "output_type": "stream",
     "text": [
      "train rmse: 0.9223167231826739\n",
      "test auc: 0.519748146945842\n",
      "train rmse: 0.9221863653172042\n",
      "test auc: 0.5086551310443902\n",
      "train rmse: 0.918625760613269\n",
      "test auc: 0.5044018788595692\n",
      "train rmse: 0.9219059471182559\n",
      "test auc: 0.5239049010791367\n",
      "train rmse: 0.92555468112623\n",
      "test auc: 0.49618127081089736\n",
      "================\n",
      "avg auc: 0.510578265747967\n"
     ]
    },
    {
     "name": "stderr",
     "output_type": "stream",
     "text": [
      "\u001b[32m[I 2022-08-25 17:22:53,388]\u001b[0m Trial 29 finished with value: 0.510578265747967 and parameters: {'max_depth': 3, 'subsample': 0.566023975912823, 'n_estimators': 600, 'eta': 0.8717264066040913, 'alpha': 0.0953479543044305, 'lambda': 2.1039403257645323e-06, 'gamma': 0.0007854763253858683, 'min_child_weight': 2, 'grow_policy': 'depthwise', 'colsample_bytree': 0.7631913581734259}. Best is trial 0 with value: 0.5888984402483588.\u001b[0m\n"
     ]
    },
    {
     "name": "stdout",
     "output_type": "stream",
     "text": [
      "Number of finished trials: 30\n",
      "Best trial parameters: {'max_depth': 2, 'subsample': 0.35599940538110836, 'n_estimators': 500, 'eta': 0.0012914759281817724, 'alpha': 0.0003539252252004037, 'lambda': 0.05579540084583653, 'gamma': 2.502907754858095e-06, 'min_child_weight': 5, 'grow_policy': 'depthwise', 'colsample_bytree': 0.583022308780028}\n",
      "Best score: 0.5888984402483588\n"
     ]
    }
   ],
   "source": [
    "study = optuna.create_study(direction='maximize')\n",
    "study.optimize(objective, n_trials = 30)\n",
    "\n",
    "print('Number of finished trials:', len(study.trials))\n",
    "print('Best trial parameters:', study.best_trial.params)\n",
    "print('Best score:', study.best_value)"
   ]
  },
  {
   "cell_type": "code",
   "execution_count": 86,
   "id": "a4f58a16",
   "metadata": {},
   "outputs": [
    {
     "ename": "ImportError",
     "evalue": "Tried to import 'plotly' but failed. Please make sure that the package is installed correctly to use this feature. Actual error: No module named 'plotly'.",
     "output_type": "error",
     "traceback": [
      "\u001b[1;31m---------------------------------------------------------------------------\u001b[0m",
      "\u001b[1;31mModuleNotFoundError\u001b[0m                       Traceback (most recent call last)",
      "\u001b[1;32mD:\\anaconda\\lib\\site-packages\\optuna\\visualization\\_plotly_imports.py\u001b[0m in \u001b[0;36m<module>\u001b[1;34m\u001b[0m\n\u001b[0;32m      6\u001b[0m \u001b[1;32mwith\u001b[0m \u001b[0mtry_import\u001b[0m\u001b[1;33m(\u001b[0m\u001b[1;33m)\u001b[0m \u001b[1;32mas\u001b[0m \u001b[0m_imports\u001b[0m\u001b[1;33m:\u001b[0m  \u001b[1;31m# NOQA\u001b[0m\u001b[1;33m\u001b[0m\u001b[1;33m\u001b[0m\u001b[0m\n\u001b[1;32m----> 7\u001b[1;33m     \u001b[1;32mimport\u001b[0m \u001b[0mplotly\u001b[0m  \u001b[1;31m# NOQA\u001b[0m\u001b[1;33m\u001b[0m\u001b[1;33m\u001b[0m\u001b[0m\n\u001b[0m\u001b[0;32m      8\u001b[0m     \u001b[1;32mfrom\u001b[0m \u001b[0mplotly\u001b[0m \u001b[1;32mimport\u001b[0m \u001b[0m__version__\u001b[0m \u001b[1;32mas\u001b[0m \u001b[0mplotly_version\u001b[0m\u001b[1;33m\u001b[0m\u001b[1;33m\u001b[0m\u001b[0m\n",
      "\u001b[1;31mModuleNotFoundError\u001b[0m: No module named 'plotly'",
      "\nThe above exception was the direct cause of the following exception:\n",
      "\u001b[1;31mImportError\u001b[0m                               Traceback (most recent call last)",
      "\u001b[1;32m<ipython-input-86-a8499d75f6d6>\u001b[0m in \u001b[0;36m<module>\u001b[1;34m\u001b[0m\n\u001b[0;32m      1\u001b[0m \u001b[1;32mfrom\u001b[0m \u001b[0moptuna\u001b[0m\u001b[1;33m.\u001b[0m\u001b[0mvisualization\u001b[0m \u001b[1;32mimport\u001b[0m \u001b[0mplot_optimization_history\u001b[0m\u001b[1;33m\u001b[0m\u001b[1;33m\u001b[0m\u001b[0m\n\u001b[0;32m      2\u001b[0m \u001b[0mplotly_config\u001b[0m \u001b[1;33m=\u001b[0m \u001b[1;33m{\u001b[0m\u001b[1;34m\"staticPlot\"\u001b[0m\u001b[1;33m:\u001b[0m \u001b[1;32mTrue\u001b[0m\u001b[1;33m}\u001b[0m\u001b[1;33m\u001b[0m\u001b[1;33m\u001b[0m\u001b[0m\n\u001b[1;32m----> 3\u001b[1;33m \u001b[0mfig\u001b[0m \u001b[1;33m=\u001b[0m \u001b[0mplot_optimization_history\u001b[0m\u001b[1;33m(\u001b[0m\u001b[0mstudy\u001b[0m\u001b[1;33m)\u001b[0m\u001b[1;33m\u001b[0m\u001b[1;33m\u001b[0m\u001b[0m\n\u001b[0m\u001b[0;32m      4\u001b[0m \u001b[0mfig\u001b[0m\u001b[1;33m.\u001b[0m\u001b[0mshow\u001b[0m\u001b[1;33m(\u001b[0m\u001b[0mconfig\u001b[0m\u001b[1;33m=\u001b[0m\u001b[0mplotly_config\u001b[0m\u001b[1;33m)\u001b[0m\u001b[1;33m\u001b[0m\u001b[1;33m\u001b[0m\u001b[0m\n",
      "\u001b[1;32mD:\\anaconda\\lib\\site-packages\\optuna\\visualization\\_optimization_history.py\u001b[0m in \u001b[0;36mplot_optimization_history\u001b[1;34m(study, target, target_name)\u001b[0m\n\u001b[0;32m     71\u001b[0m     \"\"\"\n\u001b[0;32m     72\u001b[0m \u001b[1;33m\u001b[0m\u001b[0m\n\u001b[1;32m---> 73\u001b[1;33m     \u001b[0m_imports\u001b[0m\u001b[1;33m.\u001b[0m\u001b[0mcheck\u001b[0m\u001b[1;33m(\u001b[0m\u001b[1;33m)\u001b[0m\u001b[1;33m\u001b[0m\u001b[1;33m\u001b[0m\u001b[0m\n\u001b[0m\u001b[0;32m     74\u001b[0m     \u001b[0m_check_plot_args\u001b[0m\u001b[1;33m(\u001b[0m\u001b[0mstudy\u001b[0m\u001b[1;33m,\u001b[0m \u001b[0mtarget\u001b[0m\u001b[1;33m,\u001b[0m \u001b[0mtarget_name\u001b[0m\u001b[1;33m)\u001b[0m\u001b[1;33m\u001b[0m\u001b[1;33m\u001b[0m\u001b[0m\n\u001b[0;32m     75\u001b[0m     \u001b[1;32mreturn\u001b[0m \u001b[0m_get_optimization_history_plot\u001b[0m\u001b[1;33m(\u001b[0m\u001b[0mstudy\u001b[0m\u001b[1;33m,\u001b[0m \u001b[0mtarget\u001b[0m\u001b[1;33m,\u001b[0m \u001b[0mtarget_name\u001b[0m\u001b[1;33m)\u001b[0m\u001b[1;33m\u001b[0m\u001b[1;33m\u001b[0m\u001b[0m\n",
      "\u001b[1;32mD:\\anaconda\\lib\\site-packages\\optuna\\_imports.py\u001b[0m in \u001b[0;36mcheck\u001b[1;34m(self)\u001b[0m\n\u001b[0;32m     84\u001b[0m         \u001b[1;32mif\u001b[0m \u001b[0mself\u001b[0m\u001b[1;33m.\u001b[0m\u001b[0m_deferred\u001b[0m \u001b[1;32mis\u001b[0m \u001b[1;32mnot\u001b[0m \u001b[1;32mNone\u001b[0m\u001b[1;33m:\u001b[0m\u001b[1;33m\u001b[0m\u001b[1;33m\u001b[0m\u001b[0m\n\u001b[0;32m     85\u001b[0m             \u001b[0mexc_value\u001b[0m\u001b[1;33m,\u001b[0m \u001b[0mmessage\u001b[0m \u001b[1;33m=\u001b[0m \u001b[0mself\u001b[0m\u001b[1;33m.\u001b[0m\u001b[0m_deferred\u001b[0m\u001b[1;33m\u001b[0m\u001b[1;33m\u001b[0m\u001b[0m\n\u001b[1;32m---> 86\u001b[1;33m             \u001b[1;32mraise\u001b[0m \u001b[0mImportError\u001b[0m\u001b[1;33m(\u001b[0m\u001b[0mmessage\u001b[0m\u001b[1;33m)\u001b[0m \u001b[1;32mfrom\u001b[0m \u001b[0mexc_value\u001b[0m\u001b[1;33m\u001b[0m\u001b[1;33m\u001b[0m\u001b[0m\n\u001b[0m\u001b[0;32m     87\u001b[0m \u001b[1;33m\u001b[0m\u001b[0m\n\u001b[0;32m     88\u001b[0m \u001b[1;33m\u001b[0m\u001b[0m\n",
      "\u001b[1;31mImportError\u001b[0m: Tried to import 'plotly' but failed. Please make sure that the package is installed correctly to use this feature. Actual error: No module named 'plotly'."
     ]
    }
   ],
   "source": [
    "from optuna.visualization import plot_optimization_history\n",
    "plotly_config = {\"staticPlot\": True}\n",
    "fig = plot_optimization_history(study)\n",
    "fig.show(config=plotly_config)"
   ]
  },
  {
   "cell_type": "code",
   "execution_count": 87,
   "id": "b11ec80b",
   "metadata": {},
   "outputs": [
    {
     "ename": "ImportError",
     "evalue": "Tried to import 'plotly' but failed. Please make sure that the package is installed correctly to use this feature. Actual error: No module named 'plotly'.",
     "output_type": "error",
     "traceback": [
      "\u001b[1;31m---------------------------------------------------------------------------\u001b[0m",
      "\u001b[1;31mModuleNotFoundError\u001b[0m                       Traceback (most recent call last)",
      "\u001b[1;32mD:\\anaconda\\lib\\site-packages\\optuna\\visualization\\_plotly_imports.py\u001b[0m in \u001b[0;36m<module>\u001b[1;34m\u001b[0m\n\u001b[0;32m      6\u001b[0m \u001b[1;32mwith\u001b[0m \u001b[0mtry_import\u001b[0m\u001b[1;33m(\u001b[0m\u001b[1;33m)\u001b[0m \u001b[1;32mas\u001b[0m \u001b[0m_imports\u001b[0m\u001b[1;33m:\u001b[0m  \u001b[1;31m# NOQA\u001b[0m\u001b[1;33m\u001b[0m\u001b[1;33m\u001b[0m\u001b[0m\n\u001b[1;32m----> 7\u001b[1;33m     \u001b[1;32mimport\u001b[0m \u001b[0mplotly\u001b[0m  \u001b[1;31m# NOQA\u001b[0m\u001b[1;33m\u001b[0m\u001b[1;33m\u001b[0m\u001b[0m\n\u001b[0m\u001b[0;32m      8\u001b[0m     \u001b[1;32mfrom\u001b[0m \u001b[0mplotly\u001b[0m \u001b[1;32mimport\u001b[0m \u001b[0m__version__\u001b[0m \u001b[1;32mas\u001b[0m \u001b[0mplotly_version\u001b[0m\u001b[1;33m\u001b[0m\u001b[1;33m\u001b[0m\u001b[0m\n",
      "\u001b[1;31mModuleNotFoundError\u001b[0m: No module named 'plotly'",
      "\nThe above exception was the direct cause of the following exception:\n",
      "\u001b[1;31mImportError\u001b[0m                               Traceback (most recent call last)",
      "\u001b[1;32m<ipython-input-87-282d03f4460b>\u001b[0m in \u001b[0;36m<module>\u001b[1;34m\u001b[0m\n\u001b[0;32m      1\u001b[0m \u001b[1;32mfrom\u001b[0m \u001b[0moptuna\u001b[0m\u001b[1;33m.\u001b[0m\u001b[0mvisualization\u001b[0m \u001b[1;32mimport\u001b[0m \u001b[0mplot_param_importances\u001b[0m\u001b[1;33m\u001b[0m\u001b[1;33m\u001b[0m\u001b[0m\n\u001b[1;32m----> 2\u001b[1;33m \u001b[0mfig\u001b[0m \u001b[1;33m=\u001b[0m \u001b[0mplot_param_importances\u001b[0m\u001b[1;33m(\u001b[0m\u001b[0mstudy\u001b[0m\u001b[1;33m)\u001b[0m\u001b[1;33m\u001b[0m\u001b[1;33m\u001b[0m\u001b[0m\n\u001b[0m\u001b[0;32m      3\u001b[0m \u001b[0mfig\u001b[0m\u001b[1;33m.\u001b[0m\u001b[0mshow\u001b[0m\u001b[1;33m(\u001b[0m\u001b[0mconfig\u001b[0m\u001b[1;33m=\u001b[0m\u001b[0mplotly_config\u001b[0m\u001b[1;33m)\u001b[0m\u001b[1;33m\u001b[0m\u001b[1;33m\u001b[0m\u001b[0m\n",
      "\u001b[1;32mD:\\anaconda\\lib\\site-packages\\optuna\\visualization\\_param_importances.py\u001b[0m in \u001b[0;36mplot_param_importances\u001b[1;34m(study, evaluator, params, target, target_name)\u001b[0m\n\u001b[0;32m     93\u001b[0m     \"\"\"\n\u001b[0;32m     94\u001b[0m \u001b[1;33m\u001b[0m\u001b[0m\n\u001b[1;32m---> 95\u001b[1;33m     \u001b[0m_imports\u001b[0m\u001b[1;33m.\u001b[0m\u001b[0mcheck\u001b[0m\u001b[1;33m(\u001b[0m\u001b[1;33m)\u001b[0m\u001b[1;33m\u001b[0m\u001b[1;33m\u001b[0m\u001b[0m\n\u001b[0m\u001b[0;32m     96\u001b[0m     \u001b[0m_check_plot_args\u001b[0m\u001b[1;33m(\u001b[0m\u001b[0mstudy\u001b[0m\u001b[1;33m,\u001b[0m \u001b[0mtarget\u001b[0m\u001b[1;33m,\u001b[0m \u001b[0mtarget_name\u001b[0m\u001b[1;33m)\u001b[0m\u001b[1;33m\u001b[0m\u001b[1;33m\u001b[0m\u001b[0m\n\u001b[0;32m     97\u001b[0m \u001b[1;33m\u001b[0m\u001b[0m\n",
      "\u001b[1;32mD:\\anaconda\\lib\\site-packages\\optuna\\_imports.py\u001b[0m in \u001b[0;36mcheck\u001b[1;34m(self)\u001b[0m\n\u001b[0;32m     84\u001b[0m         \u001b[1;32mif\u001b[0m \u001b[0mself\u001b[0m\u001b[1;33m.\u001b[0m\u001b[0m_deferred\u001b[0m \u001b[1;32mis\u001b[0m \u001b[1;32mnot\u001b[0m \u001b[1;32mNone\u001b[0m\u001b[1;33m:\u001b[0m\u001b[1;33m\u001b[0m\u001b[1;33m\u001b[0m\u001b[0m\n\u001b[0;32m     85\u001b[0m             \u001b[0mexc_value\u001b[0m\u001b[1;33m,\u001b[0m \u001b[0mmessage\u001b[0m \u001b[1;33m=\u001b[0m \u001b[0mself\u001b[0m\u001b[1;33m.\u001b[0m\u001b[0m_deferred\u001b[0m\u001b[1;33m\u001b[0m\u001b[1;33m\u001b[0m\u001b[0m\n\u001b[1;32m---> 86\u001b[1;33m             \u001b[1;32mraise\u001b[0m \u001b[0mImportError\u001b[0m\u001b[1;33m(\u001b[0m\u001b[0mmessage\u001b[0m\u001b[1;33m)\u001b[0m \u001b[1;32mfrom\u001b[0m \u001b[0mexc_value\u001b[0m\u001b[1;33m\u001b[0m\u001b[1;33m\u001b[0m\u001b[0m\n\u001b[0m\u001b[0;32m     87\u001b[0m \u001b[1;33m\u001b[0m\u001b[0m\n\u001b[0;32m     88\u001b[0m \u001b[1;33m\u001b[0m\u001b[0m\n",
      "\u001b[1;31mImportError\u001b[0m: Tried to import 'plotly' but failed. Please make sure that the package is installed correctly to use this feature. Actual error: No module named 'plotly'."
     ]
    }
   ],
   "source": [
    "from optuna.visualization import plot_param_importances\n",
    "fig = plot_param_importances(study)\n",
    "fig.show(config=plotly_config)"
   ]
  },
  {
   "cell_type": "code",
   "execution_count": null,
   "id": "cb58c51a",
   "metadata": {},
   "outputs": [],
   "source": [
    "sss"
   ]
  },
  {
   "cell_type": "markdown",
   "id": "59b5508a",
   "metadata": {},
   "source": [
    "## 邏輯回歸"
   ]
  },
  {
   "cell_type": "code",
   "execution_count": 10,
   "id": "3b5ca020",
   "metadata": {},
   "outputs": [
    {
     "name": "stdout",
     "output_type": "stream",
     "text": [
      "test auc: 0.5820377283630002\n",
      "test auc: 0.583260743104853\n",
      "test auc: 0.5888953095535263\n",
      "test auc: 0.5890438399280575\n",
      "test auc: 0.5875892888614397\n",
      "================\n",
      "avg auc: 0.5861653819621753\n"
     ]
    }
   ],
   "source": [
    "from sklearn.linear_model import LogisticRegression\n",
    "classifier=LogisticRegression()\n",
    "avg_auc=0\n",
    "k_fold_num=5\n",
    "kf = GroupKFold(n_splits=k_fold_num)\n",
    "for train_index, test_index in kf.split(X,y,train_df.product_code):\n",
    "    #print(\"TRAIN:\", train_index, \"TEST:\", test_index)\n",
    "    X_train, X_test = X.iloc[train_index], X.iloc[test_index]\n",
    "    y_train, y_test = y.iloc[train_index], y.iloc[test_index]\n",
    "    \n",
    "    classifier.fit(X_train, y_train)\n",
    "    predicted = classifier.predict(X_train)\n",
    "    \n",
    "    predicted_test=classifier.predict_proba(X_test)\n",
    "    fpr, tpr, thresholds = metrics.roc_curve(y_test.values, predicted_test[:,1], pos_label=1)\n",
    "    test_score=auc(fpr, tpr)\n",
    "    print('test auc:',test_score)\n",
    "    avg_auc=avg_auc+test_score\n",
    "avg_auc=avg_auc/k_fold_num\n",
    "print(\"================\")\n",
    "print('avg auc:',avg_auc)"
   ]
  },
  {
   "cell_type": "markdown",
   "id": "055c97bf",
   "metadata": {},
   "source": [
    "# Save Model"
   ]
  },
  {
   "cell_type": "code",
   "execution_count": 90,
   "id": "b102d365",
   "metadata": {},
   "outputs": [
    {
     "name": "stdout",
     "output_type": "stream",
     "text": [
      "Current Time = 2022_08_25_17_34_41\n"
     ]
    }
   ],
   "source": [
    "now = datetime.now()\n",
    "current_time = now.strftime(\"%Y_%m_%d_%H_%M_%S\")\n",
    "print(\"Current Time =\", current_time)"
   ]
  },
  {
   "cell_type": "code",
   "execution_count": 91,
   "id": "1f2c554a",
   "metadata": {},
   "outputs": [],
   "source": [
    "import pickle"
   ]
  },
  {
   "cell_type": "code",
   "execution_count": 92,
   "id": "9d42e0b3",
   "metadata": {},
   "outputs": [],
   "source": [
    "file_name = current_time+\"_logistic_model.pkl\"\n",
    "# save\n",
    "pickle.dump(classifier, open(\"model/\"+file_name, \"wb\"))"
   ]
  },
  {
   "cell_type": "code",
   "execution_count": 53,
   "id": "8135c066",
   "metadata": {},
   "outputs": [],
   "source": [
    "#file_name = current_time+\"_xgboost_model.pkl\"\n",
    "#pickle.dump(xgboostModel, open(\"model/\"+file_name, \"wb\"))"
   ]
  },
  {
   "cell_type": "code",
   "execution_count": null,
   "id": "e2a5015c",
   "metadata": {},
   "outputs": [],
   "source": []
  }
 ],
 "metadata": {
  "kernelspec": {
   "display_name": "Python 3",
   "language": "python",
   "name": "python3"
  },
  "language_info": {
   "codemirror_mode": {
    "name": "ipython",
    "version": 3
   },
   "file_extension": ".py",
   "mimetype": "text/x-python",
   "name": "python",
   "nbconvert_exporter": "python",
   "pygments_lexer": "ipython3",
   "version": "3.8.5"
  }
 },
 "nbformat": 4,
 "nbformat_minor": 5
}
